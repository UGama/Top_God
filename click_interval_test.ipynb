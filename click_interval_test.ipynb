{
 "cells": [
  {
   "cell_type": "code",
   "execution_count": 6,
   "id": "08ba65f8-31f6-4b6d-92a7-0228becb2a94",
   "metadata": {
    "scrolled": true
   },
   "outputs": [
    {
     "name": "stdout",
     "output_type": "stream",
     "text": [
      "Click twice to measure the interval between clicks.\n",
      "First click detected at (1098.33203125, 410.89453125).\n",
      "Second click detected at (1236.53515625, 617.1796875). Interval: 1.226036 seconds\n"
     ]
    }
   ],
   "source": [
    "from pynput import mouse\n",
    "import time\n",
    "\n",
    "def on_click(x, y, button, pressed):\n",
    "    if pressed:\n",
    "        global last_click_time\n",
    "        current_time = time.time()\n",
    "        \n",
    "        if last_click_time is None:\n",
    "            print(f\"First click detected at ({x}, {y}).\")\n",
    "        else:\n",
    "            interval = current_time - last_click_time\n",
    "            print(f\"Second click detected at ({x}, {y}). Interval: {interval:.6f} seconds\")\n",
    "            # Stop the listener after the second click\n",
    "            return False\n",
    "\n",
    "        last_click_time = current_time\n",
    "\n",
    "if __name__ == \"__main__\":\n",
    "    last_click_time = None\n",
    "    time.sleep(5)\n",
    "    print(\"Click twice to measure the interval between clicks.\")\n",
    "    \n",
    "    # Start listening for mouse clicks\n",
    "    with mouse.Listener(on_click=on_click) as listener:\n",
    "        listener.join()"
   ]
  },
  {
   "cell_type": "code",
   "execution_count": null,
   "id": "301c1af4-18cf-4b9b-958e-d0bcf6e5a179",
   "metadata": {},
   "outputs": [],
   "source": []
  }
 ],
 "metadata": {
  "kernelspec": {
   "display_name": "Python 3 (ipykernel)",
   "language": "python",
   "name": "python3"
  },
  "language_info": {
   "codemirror_mode": {
    "name": "ipython",
    "version": 3
   },
   "file_extension": ".py",
   "mimetype": "text/x-python",
   "name": "python",
   "nbconvert_exporter": "python",
   "pygments_lexer": "ipython3",
   "version": "3.11.7"
  }
 },
 "nbformat": 4,
 "nbformat_minor": 5
}
