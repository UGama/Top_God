{
 "cells": [
  {
   "cell_type": "code",
   "execution_count": 2,
   "id": "24ee10bc-42d1-4605-8ee0-92ebc7ccc615",
   "metadata": {},
   "outputs": [
    {
     "name": "stdout",
     "output_type": "stream",
     "text": [
      "请切换到目标窗口，5秒后开始点击...\n",
      "已点击 1 次\n",
      "已点击 2 次\n",
      "已点击 3 次\n",
      "已点击 4 次\n",
      "已点击 5 次\n",
      "点击完成\n"
     ]
    }
   ],
   "source": [
    "import pyautogui\n",
    "import time\n",
    "\n",
    "def continuous_click(x, y, interval=0.2, click_count=2):\n",
    "    \"\"\"\n",
    "    连续点击屏幕上的指定位置。\n",
    "\n",
    "    参数:\n",
    "    x (int): 点击的横坐标。\n",
    "    y (int): 点击的纵坐标。\n",
    "    interval (float): 每次点击的时间间隔（秒）。\n",
    "    click_count (int): 点击的次数。\n",
    "    \"\"\"\n",
    "    print(\"请切换到目标窗口，5秒后开始点击...\")\n",
    "    time.sleep(5)  # 等待用户切换窗口\n",
    "    \n",
    "    try:\n",
    "        for i in range(click_count):\n",
    "            pyautogui.click(x=x, y=y)\n",
    "            print(f\"已点击 {i + 1} 次\")\n",
    "            time.sleep(interval)\n",
    "    except KeyboardInterrupt:\n",
    "        print(\"操作已被用户中断\")\n",
    "    print(\"点击完成\")\n",
    "\n",
    "if __name__ == \"__main__\":\n",
    "    # 配置参数\n",
    "    # 设置目标位置\n",
    "    target_x = 500  # 修改为你想点击的横坐标\n",
    "    target_y = 400  # 修改为你想点击的纵坐标\n",
    "\n",
    "    # 点击参数\n",
    "    interval_seconds = 0.5  # 两次点击的间隔\n",
    "    click_times = 5  # 点击的总次数\n",
    "\n",
    "    # 开始点击\n",
    "    continuous_click(target_x, target_y, interval_seconds, click_times)"
   ]
  },
  {
   "cell_type": "code",
   "execution_count": null,
   "id": "6bee896b-c85f-4c12-874b-37c5eac0df09",
   "metadata": {},
   "outputs": [],
   "source": []
  }
 ],
 "metadata": {
  "kernelspec": {
   "display_name": "Python 3 (ipykernel)",
   "language": "python",
   "name": "python3"
  },
  "language_info": {
   "codemirror_mode": {
    "name": "ipython",
    "version": 3
   },
   "file_extension": ".py",
   "mimetype": "text/x-python",
   "name": "python",
   "nbconvert_exporter": "python",
   "pygments_lexer": "ipython3",
   "version": "3.11.7"
  }
 },
 "nbformat": 4,
 "nbformat_minor": 5
}
