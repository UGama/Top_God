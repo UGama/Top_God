{
 "cells": [
  {
   "cell_type": "code",
   "execution_count": 3,
   "id": "8881c78f-0944-45e8-9893-182d4f1a59a5",
   "metadata": {},
   "outputs": [
    {
     "name": "stdout",
     "output_type": "stream",
     "text": [
      "Move your mouse to the desired position. Press Ctrl+C to exit.\n",
      "Mouse position: X=307, Y=2084\n",
      "Program exited.\n"
     ]
    }
   ],
   "source": [
    "import pyautogui\n",
    "import time\n",
    "\n",
    "print(\"Move your mouse to the desired position. Press Ctrl+C to exit.\")\n",
    "\n",
    "try:\n",
    "    while True:\n",
    "        # Get the current mouse position\n",
    "        x, y = pyautogui.position()\n",
    "        print(f\"Mouse position: X={x}, Y={y}\", end=\"\\r\")  # Print on the same line\n",
    "        time.sleep(0.1)  # Update every 0.1 seconds\n",
    "except KeyboardInterrupt:\n",
    "    print(\"\\nProgram exited.\")"
   ]
  },
  {
   "cell_type": "markdown",
   "id": "19e067fe-66e6-45c4-a390-695eb88413e5",
   "metadata": {},
   "source": [
    "1 1095/420\n",
    "2 1160/420\n",
    "3 1095/480\n",
    "4 1160/480\n",
    "harvest 1231/633\n",
    "confirm 1231/633"
   ]
  },
  {
   "cell_type": "code",
   "execution_count": null,
   "id": "f6c94865-2805-4add-aecc-2df8664d434b",
   "metadata": {},
   "outputs": [],
   "source": []
  }
 ],
 "metadata": {
  "kernelspec": {
   "display_name": "Python 3 (ipykernel)",
   "language": "python",
   "name": "python3"
  },
  "language_info": {
   "codemirror_mode": {
    "name": "ipython",
    "version": 3
   },
   "file_extension": ".py",
   "mimetype": "text/x-python",
   "name": "python",
   "nbconvert_exporter": "python",
   "pygments_lexer": "ipython3",
   "version": "3.11.7"
  }
 },
 "nbformat": 4,
 "nbformat_minor": 5
}
