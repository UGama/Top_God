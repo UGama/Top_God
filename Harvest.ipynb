{
 "cells": [
  {
   "cell_type": "markdown",
   "id": "56ed8f66-6ac6-4f93-a65f-552e18c374a4",
   "metadata": {},
   "source": [
    "1 1095/420\n",
    "2 1160/420\n",
    "3 1095/480\n",
    "4 1160/480\n",
    "harvest 1231/633\n",
    "confirm 1231/633\n",
    "pumpkin 1325/363\n",
    "radish 1145/300\n",
    "wheat 1233/300\n",
    "Greenveg 1325/300\n",
    "carrot 1145/363\n",
    "corn 1233/363"
   ]
  },
  {
   "cell_type": "code",
   "execution_count": 27,
   "id": "8dec50f8-3dd4-4b70-a6e3-a12e3ed567a3",
   "metadata": {},
   "outputs": [],
   "source": [
    "target1_x=1095\n",
    "target1_y=420\n",
    "\n",
    "target2_x=1160\n",
    "target2_y=420\n",
    "\n",
    "target3_x=1095\n",
    "target3_y=480\n",
    "\n",
    "target4_x=1160\n",
    "target4_y=480\n",
    "\n",
    "harvest_x=1231\n",
    "harvest_y=633\n",
    "\n",
    "confirm_x=1231\n",
    "confirm_y=633\n",
    "\n",
    "plant_x=1235\n",
    "plant_y=570\n",
    "\n",
    "pumpkin_x=1325\n",
    "pumpkin_y=363\n",
    "\n",
    "radish_x=1145\n",
    "radish_y=300\n",
    "\n",
    "wheat_x=1233\n",
    "wheat_y=300\n",
    "\n",
    "greenveg_x=1325\n",
    "greenveg_y=300\n",
    "\n",
    "carrot_x=1145\n",
    "carrot_y=363\n",
    "\n",
    "corn_x=1233\n",
    "corn_y=363\n",
    "\n",
    "interval_seconds = 1.2  # 两次点击的间隔\n",
    "\n",
    "delay = (10 * 3600) + 20"
   ]
  },
  {
   "cell_type": "code",
   "execution_count": 31,
   "id": "74e5b412-312f-440b-951f-6a8fbf495ded",
   "metadata": {},
   "outputs": [],
   "source": [
    "def click(x,y,interval):\n",
    "    try:\n",
    "        pyautogui.click(x=x,y=y)\n",
    "        # print(f'click x: {x} y: {y}')\n",
    "        time.sleep(interval)\n",
    "    except KeyboardInterrupt:\n",
    "        print(\"操作已被用户中断\")\n",
    "\n",
    "def plant(x,y):\n",
    "    time.sleep(1)\n",
    "    click(target1_x, target1_y, interval_seconds)\n",
    "    click(x, y, interval_seconds)\n",
    "    click(plant_x, plant_y, interval_seconds)\n",
    "    print(\"seed first one!\")\n",
    "\n",
    "    click(target2_x, target2_y, interval_seconds)\n",
    "    click(x, y, interval_seconds)\n",
    "    click(plant_x, plant_y, interval_seconds)\n",
    "    print(\"seed second one!\")\n",
    "    \n",
    "    click(target3_x, target3_y, interval_seconds)\n",
    "    click(x, y, interval_seconds)\n",
    "    click(plant_x, plant_y, interval_seconds)\n",
    "    print(\"seed third one!\")\n",
    "    \n",
    "    click(target4_x, target4_y, interval_seconds)\n",
    "    click(x, y, interval_seconds)\n",
    "    click(plant_x, plant_y, interval_seconds)\n",
    "    print(\"seed fourth one!\")\n",
    "\n",
    "def harvest():\n",
    "    click(1234,521,0.2)\n",
    "    click(target1_x, target1_y, interval_seconds)\n",
    "    click(harvest_x, harvest_y, interval_seconds)\n",
    "    click(confirm_x, confirm_y, interval_seconds)\n",
    "    print(\"harvest first one!\")\n",
    "    \n",
    "    click(target2_x, target2_y, interval_seconds)\n",
    "    click(harvest_x, harvest_y, interval_seconds)\n",
    "    click(confirm_x, confirm_y, interval_seconds)\n",
    "    print(\"harvest second one!\")\n",
    "    \n",
    "    click(target3_x, target3_y, interval_seconds)\n",
    "    click(harvest_x, harvest_y, interval_seconds)\n",
    "    click(confirm_x, confirm_y, interval_seconds)\n",
    "    print(\"harvest third one!\")\n",
    "    \n",
    "    click(target4_x, target4_y, interval_seconds)\n",
    "    click(harvest_x, harvest_y, interval_seconds)\n",
    "    click(confirm_x, confirm_y, interval_seconds)\n",
    "    print(\"harvest fourth one!\")"
   ]
  },
  {
   "cell_type": "code",
   "execution_count": null,
   "id": "831bcb24-7e0e-4057-aa3f-62ad7664929c",
   "metadata": {},
   "outputs": [],
   "source": [
    "import pyautogui\n",
    "import time\n",
    "from datetime import datetime\n",
    "    \n",
    "if __name__ == \"__main__\":\n",
    "    click(1234,521,0.2)\n",
    "    while(True):\n",
    "        harvest()\n",
    "        plant(pumpkin_x, pumpkin_y)\n",
    "        print(f\"Script will execute after {delay} seconds.\")\n",
    "        time.sleep(delay)\n",
    "        click(1234,521,5)\n",
    "    "
   ]
  },
  {
   "cell_type": "code",
   "execution_count": null,
   "id": "83f494f4-5bf1-4546-b710-d28f10650aaa",
   "metadata": {},
   "outputs": [],
   "source": [
    "# radish\n",
    "harvest()\n",
    "plant(radish_x, radish_y)"
   ]
  },
  {
   "cell_type": "code",
   "execution_count": 26,
   "id": "815fd4fc-e3a2-4241-bf5f-828654c1a902",
   "metadata": {},
   "outputs": [
    {
     "name": "stdout",
     "output_type": "stream",
     "text": [
      "seed third one!\n",
      "seed fourth one!\n"
     ]
    }
   ],
   "source": [
    "#wheat\n",
    "harvest()\n",
    "plant(wheat_x, wheat_y)"
   ]
  },
  {
   "cell_type": "code",
   "execution_count": 32,
   "id": "aa867574-293e-4df4-8cbd-82d8a45f6c6f",
   "metadata": {},
   "outputs": [
    {
     "name": "stdout",
     "output_type": "stream",
     "text": [
      "harvest first one!\n",
      "harvest second one!\n",
      "harvest third one!\n",
      "harvest fourth one!\n",
      "seed first one!\n",
      "seed second one!\n",
      "seed third one!\n",
      "seed fourth one!\n"
     ]
    }
   ],
   "source": [
    "#greenveg\n",
    "harvest()\n",
    "plant(greenveg_x, greenveg_y)"
   ]
  },
  {
   "cell_type": "code",
   "execution_count": null,
   "id": "3bb67022-4a20-41f4-8201-a95b5e43bc08",
   "metadata": {},
   "outputs": [],
   "source": [
    "#carrot\n",
    "harvest()\n",
    "plant(carrot_x, corrot_y)"
   ]
  },
  {
   "cell_type": "code",
   "execution_count": null,
   "id": "42fe5e05-c5af-4069-bb8e-8ac574b526d1",
   "metadata": {},
   "outputs": [],
   "source": [
    "#corn\n",
    "harvest()\n",
    "plant(corn_x, corn_y)"
   ]
  },
  {
   "cell_type": "code",
   "execution_count": 30,
   "id": "214d8669-d356-4cdf-9ec4-9cb52d37cf0b",
   "metadata": {},
   "outputs": [
    {
     "name": "stdout",
     "output_type": "stream",
     "text": [
      "harvest first one!\n",
      "harvest second one!\n",
      "harvest third one!\n",
      "harvest fourth one!\n",
      "seed first one!\n",
      "seed second one!\n",
      "seed third one!\n",
      "seed fourth one!\n",
      "Script will execute after 36020 seconds.\n"
     ]
    },
    {
     "ename": "KeyboardInterrupt",
     "evalue": "",
     "output_type": "error",
     "traceback": [
      "\u001b[0;31m---------------------------------------------------------------------------\u001b[0m",
      "\u001b[0;31mKeyboardInterrupt\u001b[0m                         Traceback (most recent call last)",
      "Cell \u001b[0;32mIn[30], line 6\u001b[0m\n\u001b[1;32m      4\u001b[0m plant(radish_x, radish_y)\n\u001b[1;32m      5\u001b[0m \u001b[38;5;28mprint\u001b[39m(\u001b[38;5;124mf\u001b[39m\u001b[38;5;124m\"\u001b[39m\u001b[38;5;124mScript will execute after \u001b[39m\u001b[38;5;132;01m{\u001b[39;00mdelay\u001b[38;5;132;01m}\u001b[39;00m\u001b[38;5;124m seconds.\u001b[39m\u001b[38;5;124m\"\u001b[39m)\n\u001b[0;32m----> 6\u001b[0m time\u001b[38;5;241m.\u001b[39msleep(\u001b[38;5;241m3610\u001b[39m)\n\u001b[1;32m      7\u001b[0m click(\u001b[38;5;241m1234\u001b[39m,\u001b[38;5;241m521\u001b[39m,\u001b[38;5;241m5\u001b[39m)\n",
      "\u001b[0;31mKeyboardInterrupt\u001b[0m: "
     ]
    }
   ],
   "source": [
    "while(True):\n",
    "    click(1234,521,0.2)\n",
    "    harvest()\n",
    "    plant(radish_x, radish_y)\n",
    "    print(f\"Script will execute after {delay} seconds.\")\n",
    "    time.sleep(3610)\n",
    "    click(1234,521,5)"
   ]
  },
  {
   "cell_type": "code",
   "execution_count": null,
   "id": "6c23fc72-d0b5-499b-86c8-a6f098ba6e7d",
   "metadata": {},
   "outputs": [],
   "source": []
  }
 ],
 "metadata": {
  "kernelspec": {
   "display_name": "Python 3 (ipykernel)",
   "language": "python",
   "name": "python3"
  },
  "language_info": {
   "codemirror_mode": {
    "name": "ipython",
    "version": 3
   },
   "file_extension": ".py",
   "mimetype": "text/x-python",
   "name": "python",
   "nbconvert_exporter": "python",
   "pygments_lexer": "ipython3",
   "version": "3.11.7"
  }
 },
 "nbformat": 4,
 "nbformat_minor": 5
}
