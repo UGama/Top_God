{
 "cells": [
  {
   "cell_type": "markdown",
   "id": "56ed8f66-6ac6-4f93-a65f-552e18c374a4",
   "metadata": {},
   "source": [
    "1 1095/420\n",
    "2 1160/420\n",
    "3 1095/480\n",
    "4 1160/480\n",
    "harvest 1231/633\n",
    "confirm 1231/633"
   ]
  },
  {
   "cell_type": "code",
   "execution_count": 5,
   "id": "831bcb24-7e0e-4057-aa3f-62ad7664929c",
   "metadata": {},
   "outputs": [
    {
     "name": "stdout",
     "output_type": "stream",
     "text": [
      "click x: 1095 y: 420\n",
      "click x: 1231 y: 633\n",
      "click x: 1231 y: 633\n",
      "harvest first one!\n",
      "click x: 1160 y: 420\n",
      "click x: 1231 y: 633\n",
      "click x: 1231 y: 633\n",
      "harvest second one!\n",
      "click x: 1095 y: 480\n",
      "click x: 1231 y: 633\n",
      "click x: 1231 y: 633\n",
      "harvest third one!\n",
      "click x: 1160 y: 480\n",
      "click x: 1231 y: 633\n",
      "click x: 1231 y: 633\n",
      "harvest fourth one!\n"
     ]
    }
   ],
   "source": [
    "import pyautogui\n",
    "import time\n",
    "def click(x,y,interval):\n",
    "    try:\n",
    "        pyautogui.click(x=x,y=y)\n",
    "        print(f'click x: {x} y: {y}')\n",
    "        time.sleep(interval)\n",
    "    except KeyboardInterrupt:\n",
    "        print(\"操作已被用户中断\")\n",
    "\n",
    "def harvest():\n",
    "    target1_x=1095\n",
    "    target1_y=420\n",
    "\n",
    "    target2_x=1160\n",
    "    target2_y=420\n",
    "\n",
    "    target3_x=1095\n",
    "    target3_y=480\n",
    "\n",
    "    target4_x=1160\n",
    "    target4_y=480\n",
    "\n",
    "    harvest_x=1231\n",
    "    harvest_y=633\n",
    "\n",
    "    confirm_x=1231\n",
    "    confirm_y=633\n",
    "\n",
    "    # 点击参数\n",
    "    interval_seconds = 0.5  # 两次点击的间隔\n",
    "    \n",
    "\n",
    "    # 开始点击\n",
    "    click(target1_x, target1_y, interval_seconds)\n",
    "    click(harvest_x, harvest_y, interval_seconds)\n",
    "    click(confirm_x, confirm_y, interval_seconds)\n",
    "    print(\"harvest first one!\")\n",
    "    \n",
    "    click(target2_x, target2_y, interval_seconds)\n",
    "    click(harvest_x, harvest_y, interval_seconds)\n",
    "    click(confirm_x, confirm_y, interval_seconds)\n",
    "    print(\"harvest second one!\")\n",
    "    \n",
    "    click(target3_x, target3_y, interval_seconds)\n",
    "    click(harvest_x, harvest_y, interval_seconds)\n",
    "    click(confirm_x, confirm_y, interval_seconds)\n",
    "    print(\"harvest third one!\")\n",
    "    \n",
    "    click(target4_x, target4_y, interval_seconds)\n",
    "    click(harvest_x, harvest_y, interval_seconds)\n",
    "    click(confirm_x, confirm_y, interval_seconds)\n",
    "    print(\"harvest fourth one!\")\n",
    "        \n",
    "\n",
    "if __name__ == \"__main__\":\n",
    "    harvest()\n",
    "    "
   ]
  },
  {
   "cell_type": "code",
   "execution_count": null,
   "id": "25893294-dc8b-42f9-9e93-096ce48c3835",
   "metadata": {},
   "outputs": [],
   "source": []
  },
  {
   "cell_type": "code",
   "execution_count": null,
   "id": "6524157e-bad6-4296-9b14-6805ef77c164",
   "metadata": {},
   "outputs": [],
   "source": []
  },
  {
   "cell_type": "code",
   "execution_count": null,
   "id": "21fdad52-461a-4749-b208-259da3a42d12",
   "metadata": {},
   "outputs": [],
   "source": []
  }
 ],
 "metadata": {
  "kernelspec": {
   "display_name": "Python 3 (ipykernel)",
   "language": "python",
   "name": "python3"
  },
  "language_info": {
   "codemirror_mode": {
    "name": "ipython",
    "version": 3
   },
   "file_extension": ".py",
   "mimetype": "text/x-python",
   "name": "python",
   "nbconvert_exporter": "python",
   "pygments_lexer": "ipython3",
   "version": "3.11.7"
  }
 },
 "nbformat": 4,
 "nbformat_minor": 5
}
