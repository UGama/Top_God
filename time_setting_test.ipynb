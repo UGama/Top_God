{
 "cells": [
  {
   "cell_type": "code",
   "execution_count": null,
   "id": "580c5715-e724-43e9-8bd8-e4ec6dbfe268",
   "metadata": {},
   "outputs": [],
   "source": [
    "import time\n",
    "\n",
    "def my_function():\n",
    "    print(\"Function executed after 10 hours and 20 seconds!\")\n",
    "\n",
    "# Calculate the delay in seconds\n",
    "delay = (10 * 3600) + 20  # 10 hours = 36000 seconds, 20 seconds\n",
    "\n",
    "print(f\"Script will execute after {delay} seconds (10 hours and 20 seconds).\")\n",
    "time.sleep(delay)  # Pause execution\n",
    "my_function()"
   ]
  },
  {
   "cell_type": "code",
   "execution_count": 4,
   "id": "fcc21ce4-dbde-4e3a-8cf9-87c13935bc3d",
   "metadata": {},
   "outputs": [
    {
     "name": "stdout",
     "output_type": "stream",
     "text": [
      "Current time: 2024-12-06 23:58:21.358666\n",
      "Script will execute after 10 seconds.\n",
      "Current time: 2024-12-06 23:58:31.363216\n",
      "Script will execute after 10 seconds.\n",
      "Current time: 2024-12-06 23:58:41.369188\n",
      "Script will execute after 10 seconds.\n",
      "Current time: 2024-12-06 23:58:51.372039\n",
      "Script will execute after 10 seconds.\n",
      "Current time: 2024-12-06 23:59:01.378976\n",
      "Script will execute after 10 seconds.\n"
     ]
    },
    {
     "ename": "KeyboardInterrupt",
     "evalue": "",
     "output_type": "error",
     "traceback": [
      "\u001b[0;31m---------------------------------------------------------------------------\u001b[0m",
      "\u001b[0;31mKeyboardInterrupt\u001b[0m                         Traceback (most recent call last)",
      "Cell \u001b[0;32mIn[4], line 23\u001b[0m\n\u001b[1;32m     20\u001b[0m delay \u001b[38;5;241m=\u001b[39m \u001b[38;5;241m10\u001b[39m  \u001b[38;5;66;03m# seconds\u001b[39;00m\n\u001b[1;32m     22\u001b[0m \u001b[38;5;28mprint\u001b[39m(\u001b[38;5;124mf\u001b[39m\u001b[38;5;124m\"\u001b[39m\u001b[38;5;124mScript will execute after \u001b[39m\u001b[38;5;132;01m{\u001b[39;00mdelay\u001b[38;5;132;01m}\u001b[39;00m\u001b[38;5;124m seconds.\u001b[39m\u001b[38;5;124m\"\u001b[39m)\n\u001b[0;32m---> 23\u001b[0m time\u001b[38;5;241m.\u001b[39msleep(delay)\n",
      "\u001b[0;31mKeyboardInterrupt\u001b[0m: "
     ]
    }
   ],
   "source": [
    "import time\n",
    "\n",
    "from datetime import datetime\n",
    "\n",
    "# Format and print the date\n",
    "# print(\"Current date and time:\", current_date)\n",
    "# print(\"Current date:\", current_date.date())\n",
    "# print(\"Current time:\", current_date.time())\n",
    "\n",
    "def my_function():\n",
    "    print(\"Current time:\", datetime.now())\n",
    "\n",
    "while(True):\n",
    "    my_function()\n",
    "\n",
    "# Calculate the delay in seconds\n",
    "    delay = 10  # seconds\n",
    "\n",
    "    print(f\"Script will execute after {delay} seconds.\")\n",
    "    time.sleep(delay)  # Pause execution\n"
   ]
  },
  {
   "cell_type": "code",
   "execution_count": null,
   "id": "1e5ac4e7-bb00-4d24-ad00-77d96eebb6d1",
   "metadata": {},
   "outputs": [],
   "source": [
    "import schedule\n",
    "import time\n",
    "\n",
    "def my_script():\n",
    "    print(\"Running the script!\")\n",
    "\n",
    "# Schedule the task\n",
    "schedule.every().day.at(\"23:51\").do(my_script)  # Run at 2:30 PM every day\n",
    "\n",
    "print(\"Scheduler started. Press Ctrl+C to exit.\")\n",
    "while True:\n",
    "    schedule.run_pending()\n",
    "    time.sleep(1)"
   ]
  }
 ],
 "metadata": {
  "kernelspec": {
   "display_name": "Python 3 (ipykernel)",
   "language": "python",
   "name": "python3"
  },
  "language_info": {
   "codemirror_mode": {
    "name": "ipython",
    "version": 3
   },
   "file_extension": ".py",
   "mimetype": "text/x-python",
   "name": "python",
   "nbconvert_exporter": "python",
   "pygments_lexer": "ipython3",
   "version": "3.11.7"
  }
 },
 "nbformat": 4,
 "nbformat_minor": 5
}
