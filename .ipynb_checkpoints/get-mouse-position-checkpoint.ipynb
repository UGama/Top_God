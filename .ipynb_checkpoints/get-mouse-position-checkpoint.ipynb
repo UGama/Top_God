{
 "cells": [
  {
   "cell_type": "code",
   "execution_count": null,
   "id": "8881c78f-0944-45e8-9893-182d4f1a59a5",
   "metadata": {},
   "outputs": [],
   "source": [
    "import pyautogui\n",
    "import time\n",
    "\n",
    "print(\"Move your mouse to the desired position. Press Ctrl+C to exit.\")\n",
    "\n",
    "try:\n",
    "    while True:\n",
    "        # Get the current mouse position\n",
    "        x, y = pyautogui.position()\n",
    "        print(f\"Mouse position: X={x}, Y={y}\", end=\"\\r\")  # Print on the same line\n",
    "        time.sleep(0.1)  # Update every 0.1 seconds\n",
    "except KeyboardInterrupt:\n",
    "    print(\"\\nProgram exited.\")"
   ]
  }
 ],
 "metadata": {
  "kernelspec": {
   "display_name": "Python 3 (ipykernel)",
   "language": "python",
   "name": "python3"
  },
  "language_info": {
   "codemirror_mode": {
    "name": "ipython",
    "version": 3
   },
   "file_extension": ".py",
   "mimetype": "text/x-python",
   "name": "python",
   "nbconvert_exporter": "python",
   "pygments_lexer": "ipython3",
   "version": "3.11.7"
  }
 },
 "nbformat": 4,
 "nbformat_minor": 5
}
